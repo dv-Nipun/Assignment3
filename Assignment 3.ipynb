{
 "cells": [
  {
   "cell_type": "code",
   "execution_count": 1,
   "id": "10a9ed05",
   "metadata": {},
   "outputs": [
    {
     "name": "stdout",
     "output_type": "stream",
     "text": [
      "Defaulting to user installation because normal site-packages is not writeable\n",
      "Requirement already satisfied: pyspark in ./.local/lib/python3.10/site-packages (3.4.1)\n",
      "Requirement already satisfied: py4j==0.10.9.7 in ./.local/lib/python3.10/site-packages (from pyspark) (0.10.9.7)\n",
      "Note: you may need to restart the kernel to use updated packages.\n"
     ]
    }
   ],
   "source": [
    "pip install pyspark\n"
   ]
  },
  {
   "cell_type": "code",
   "execution_count": 2,
   "id": "e54ec65b",
   "metadata": {},
   "outputs": [],
   "source": [
    "import pyspark"
   ]
  },
  {
   "cell_type": "code",
   "execution_count": 3,
   "id": "8218b8ee",
   "metadata": {},
   "outputs": [],
   "source": [
    "from pyspark.sql import SparkSession"
   ]
  },
  {
   "cell_type": "code",
   "execution_count": 4,
   "id": "3aeaade5",
   "metadata": {},
   "outputs": [
    {
     "name": "stderr",
     "output_type": "stream",
     "text": [
      "23/07/19 14:04:36 WARN Utils: Your hostname, user-ThinkPad-E480 resolves to a loopback address: 127.0.1.1; using 10.22.22.233 instead (on interface wlp5s0)\n",
      "23/07/19 14:04:36 WARN Utils: Set SPARK_LOCAL_IP if you need to bind to another address\n",
      "Setting default log level to \"WARN\".\n",
      "To adjust logging level use sc.setLogLevel(newLevel). For SparkR, use setLogLevel(newLevel).\n",
      "23/07/19 14:04:36 WARN NativeCodeLoader: Unable to load native-hadoop library for your platform... using builtin-java classes where applicable\n"
     ]
    }
   ],
   "source": [
    "spark=SparkSession.builder.appName('pyspark3').getOrCreate()"
   ]
  },
  {
   "cell_type": "code",
   "execution_count": 5,
   "id": "6057fd66",
   "metadata": {
    "scrolled": true
   },
   "outputs": [
    {
     "data": {
      "text/html": [
       "\n",
       "            <div>\n",
       "                <p><b>SparkSession - in-memory</b></p>\n",
       "                \n",
       "        <div>\n",
       "            <p><b>SparkContext</b></p>\n",
       "\n",
       "            <p><a href=\"http://10.22.22.233:4040\">Spark UI</a></p>\n",
       "\n",
       "            <dl>\n",
       "              <dt>Version</dt>\n",
       "                <dd><code>v3.4.1</code></dd>\n",
       "              <dt>Master</dt>\n",
       "                <dd><code>local[*]</code></dd>\n",
       "              <dt>AppName</dt>\n",
       "                <dd><code>pyspark3</code></dd>\n",
       "            </dl>\n",
       "        </div>\n",
       "        \n",
       "            </div>\n",
       "        "
      ],
      "text/plain": [
       "<pyspark.sql.session.SparkSession at 0x7f2c140db670>"
      ]
     },
     "execution_count": 5,
     "metadata": {},
     "output_type": "execute_result"
    },
    {
     "name": "stderr",
     "output_type": "stream",
     "text": [
      "23/07/19 14:04:49 WARN GarbageCollectionMetrics: To enable non-built-in garbage collector(s) List(G1 Concurrent GC), users should configure it(them) to spark.eventLog.gcMetrics.youngGenerationGarbageCollectors or spark.eventLog.gcMetrics.oldGenerationGarbageCollectors\n"
     ]
    }
   ],
   "source": [
    "spark\n"
   ]
  },
  {
   "cell_type": "code",
   "execution_count": 8,
   "id": "47e93fd7",
   "metadata": {},
   "outputs": [],
   "source": [
    "PD=spark.read.csv('heartattack_dataset.csv',header=True,inferSchema=True)"
   ]
  },
  {
   "cell_type": "code",
   "execution_count": 9,
   "id": "e379f2b2",
   "metadata": {},
   "outputs": [
    {
     "name": "stdout",
     "output_type": "stream",
     "text": [
      "+---+---+---+------+----+---+-------+--------+----+-------+---+---+-----+------+\n",
      "|age|sex| cp|trtbps|chol|fbs|restecg|thalachh|exng|oldpeak|slp|caa|thall|output|\n",
      "+---+---+---+------+----+---+-------+--------+----+-------+---+---+-----+------+\n",
      "| 63|  1|  3|   145| 233|  1|      0|     150|   0|    2.3|  0|  0|    1|     1|\n",
      "| 37|  1|  2|   130| 250|  0|      1|     187|   0|    3.5|  0|  0|    2|     1|\n",
      "| 41|  0|  1|   130| 204|  0|      0|     172|   0|    1.4|  2|  0|    2|     1|\n",
      "| 56|  1|  1|   120| 236|  0|      1|     178|   0|    0.8|  2|  0|    2|     1|\n",
      "| 57|  0|  0|   120| 354|  0|      1|     163|   1|    0.6|  2|  0|    2|     1|\n",
      "| 57|  1|  0|   140| 192|  0|      1|     148|   0|    0.4|  1|  0|    1|     1|\n",
      "| 56|  0|  1|   140| 294|  0|      0|     153|   0|    1.3|  1|  0|    2|     1|\n",
      "| 44|  1|  1|   120| 263|  0|      1|     173|   0|    0.0|  2|  0|    3|     1|\n",
      "| 52|  1|  2|   172| 199|  1|      1|     162|   0|    0.5|  2|  0|    3|     1|\n",
      "| 57|  1|  2|   150| 168|  0|      1|     174|   0|    1.6|  2|  0|    2|     1|\n",
      "| 54|  1|  0|   140| 239|  0|      1|     160|   0|    1.2|  2|  0|    2|     1|\n",
      "| 48|  0|  2|   130| 275|  0|      1|     139|   0|    0.2|  2|  0|    2|     1|\n",
      "| 49|  1|  1|   130| 266|  0|      1|     171|   0|    0.6|  2|  0|    2|     1|\n",
      "| 64|  1|  3|   110| 211|  0|      0|     144|   1|    1.8|  1|  0|    2|     1|\n",
      "| 58|  0|  3|   150| 283|  1|      0|     162|   0|    1.0|  2|  0|    2|     1|\n",
      "| 50|  0|  2|   120| 219|  0|      1|     158|   0|    1.6|  1|  0|    2|     1|\n",
      "| 58|  0|  2|   120| 340|  0|      1|     172|   0|    0.0|  2|  0|    2|     1|\n",
      "| 66|  0|  3|   150| 226|  0|      1|     114|   0|    2.6|  0|  0|    2|     1|\n",
      "| 43|  1|  0|   150| 247|  0|      1|     171|   0|    1.5|  2|  0|    2|     1|\n",
      "| 69|  0|  3|   140| 239|  0|      1|     151|   0|    1.8|  2|  2|    2|     1|\n",
      "+---+---+---+------+----+---+-------+--------+----+-------+---+---+-----+------+\n",
      "only showing top 20 rows\n",
      "\n"
     ]
    }
   ],
   "source": [
    "PD.show()"
   ]
  },
  {
   "cell_type": "code",
   "execution_count": 10,
   "id": "5ef413b9",
   "metadata": {},
   "outputs": [
    {
     "data": {
      "text/plain": [
       "303"
      ]
     },
     "execution_count": 10,
     "metadata": {},
     "output_type": "execute_result"
    }
   ],
   "source": [
    "PD.count()\n"
   ]
  },
  {
   "cell_type": "code",
   "execution_count": 11,
   "id": "be691f5e",
   "metadata": {},
   "outputs": [
    {
     "data": {
      "text/plain": [
       "DataFrame[summary: string, age: string, sex: string, cp: string, trtbps: string, chol: string, fbs: string, restecg: string, thalachh: string, exng: string, oldpeak: string, slp: string, caa: string, thall: string, output: string]"
      ]
     },
     "execution_count": 11,
     "metadata": {},
     "output_type": "execute_result"
    }
   ],
   "source": [
    "PD.describe()"
   ]
  },
  {
   "cell_type": "code",
   "execution_count": 14,
   "id": "e8ff4d28",
   "metadata": {},
   "outputs": [
    {
     "name": "stdout",
     "output_type": "stream",
     "text": [
      "root\n",
      " |-- age: integer (nullable = true)\n",
      " |-- sex: integer (nullable = true)\n",
      " |-- cp: integer (nullable = true)\n",
      " |-- trtbps: integer (nullable = true)\n",
      " |-- chol: integer (nullable = true)\n",
      " |-- fbs: integer (nullable = true)\n",
      " |-- restecg: integer (nullable = true)\n",
      " |-- thalachh: integer (nullable = true)\n",
      " |-- exng: integer (nullable = true)\n",
      " |-- oldpeak: double (nullable = true)\n",
      " |-- slp: integer (nullable = true)\n",
      " |-- caa: integer (nullable = true)\n",
      " |-- thall: integer (nullable = true)\n",
      " |-- output: integer (nullable = true)\n",
      "\n"
     ]
    }
   ],
   "source": [
    "PD.printSchema()"
   ]
  },
  {
   "cell_type": "code",
   "execution_count": 17,
   "id": "aae7c73d",
   "metadata": {},
   "outputs": [],
   "source": [
    "header=PD.columns"
   ]
  },
  {
   "cell_type": "code",
   "execution_count": 18,
   "id": "1eb55597",
   "metadata": {},
   "outputs": [
    {
     "data": {
      "text/plain": [
       "['age',\n",
       " 'sex',\n",
       " 'cp',\n",
       " 'trtbps',\n",
       " 'chol',\n",
       " 'fbs',\n",
       " 'restecg',\n",
       " 'thalachh',\n",
       " 'exng',\n",
       " 'oldpeak',\n",
       " 'slp',\n",
       " 'caa',\n",
       " 'thall',\n",
       " 'output']"
      ]
     },
     "execution_count": 18,
     "metadata": {},
     "output_type": "execute_result"
    }
   ],
   "source": [
    "header"
   ]
  },
  {
   "cell_type": "code",
   "execution_count": 20,
   "id": "f049919a",
   "metadata": {},
   "outputs": [
    {
     "data": {
      "text/plain": [
       "302"
      ]
     },
     "execution_count": 20,
     "metadata": {},
     "output_type": "execute_result"
    }
   ],
   "source": [
    "PD.distinct().count()"
   ]
  },
  {
   "cell_type": "code",
   "execution_count": 27,
   "id": "b38d61af",
   "metadata": {},
   "outputs": [
    {
     "name": "stdout",
     "output_type": "stream",
     "text": [
      "None\n"
     ]
    }
   ],
   "source": [
    "columns_null = [col for col in PD.columns if PD.filter(f\"{col} IS NULL\").count() > 0]\n",
    "\n",
    "if columns_null:\n",
    "    print(\"Null values found\")\n",
    "    for col in columns_null:\n",
    "        print(col)\n",
    "else:\n",
    "    print(\"None\")\n"
   ]
  },
  {
   "cell_type": "code",
   "execution_count": 29,
   "id": "4cdaece5",
   "metadata": {},
   "outputs": [
    {
     "name": "stdout",
     "output_type": "stream",
     "text": [
      "Defaulting to user installation because normal site-packages is not writeable\n",
      "Collecting pandas\n",
      "  Downloading pandas-2.0.3-cp310-cp310-manylinux_2_17_x86_64.manylinux2014_x86_64.whl (12.3 MB)\n",
      "\u001b[2K     \u001b[38;2;114;156;31m━━━━━━━━━━━━━━━━━━━━━━━━━━━━━━━━━━━━━━━━\u001b[0m \u001b[32m12.3/12.3 MB\u001b[0m \u001b[31m5.0 MB/s\u001b[0m eta \u001b[36m0:00:00\u001b[0mm eta \u001b[36m0:00:01\u001b[0m0:01\u001b[0m:01\u001b[0m\n",
      "\u001b[?25hRequirement already satisfied: matplotlib in /usr/lib/python3/dist-packages (3.5.1)\n",
      "Collecting seaborn\n",
      "  Downloading seaborn-0.12.2-py3-none-any.whl (293 kB)\n",
      "\u001b[2K     \u001b[38;2;114;156;31m━━━━━━━━━━━━━━━━━━━━━━━━━━━━━━━━━━━━━\u001b[0m \u001b[32m293.3/293.3 KB\u001b[0m \u001b[31m945.8 kB/s\u001b[0m eta \u001b[36m0:00:00\u001b[0m[36m0:00:01\u001b[0m[36m0:00:01\u001b[0m\n",
      "\u001b[?25hRequirement already satisfied: numpy>=1.21.0 in /usr/lib/python3/dist-packages (from pandas) (1.21.5)\n",
      "Collecting tzdata>=2022.1\n",
      "  Downloading tzdata-2023.3-py2.py3-none-any.whl (341 kB)\n",
      "\u001b[2K     \u001b[38;2;114;156;31m━━━━━━━━━━━━━━━━━━━━━━━━━━━━━━━━━━━━━━━\u001b[0m \u001b[32m341.8/341.8 KB\u001b[0m \u001b[31m1.8 MB/s\u001b[0m eta \u001b[36m0:00:00\u001b[0mm eta \u001b[36m0:00:01\u001b[0m0:01\u001b[0m\n",
      "\u001b[?25hRequirement already satisfied: python-dateutil>=2.8.2 in ./.local/lib/python3.10/site-packages (from pandas) (2.8.2)\n",
      "Requirement already satisfied: pytz>=2020.1 in /usr/lib/python3/dist-packages (from pandas) (2022.1)\n",
      "Requirement already satisfied: six>=1.5 in /usr/lib/python3/dist-packages (from python-dateutil>=2.8.2->pandas) (1.16.0)\n",
      "Installing collected packages: tzdata, pandas, seaborn\n",
      "Successfully installed pandas-2.0.3 seaborn-0.12.2 tzdata-2023.3\n",
      "Note: you may need to restart the kernel to use updated packages.\n"
     ]
    }
   ],
   "source": [
    "pip install pandas matplotlib seaborn\n"
   ]
  },
  {
   "cell_type": "code",
   "execution_count": 70,
   "id": "79d9673e",
   "metadata": {},
   "outputs": [
    {
     "data": {
      "image/png": "[encoded data removed]",
      "text/plain": [
       "<Figure size 504x360 with 1 Axes>"
      ]
     },
     "metadata": {
      "needs_background": "light"
     },
     "output_type": "display_data"
    }
   ],
   "source": [
    "import pandas as pd\n",
    "import matplotlib.pyplot as plt\n",
    "import seaborn as sns\n",
    "\n",
    "# Distribution of Age and its relationship with the target variable (heart attack chance).\n",
    "\n",
    "plt.figure(figsize=(7, 5))\n",
    "sns.boxplot(x='output', y='age', data=data)\n",
    "plt.xlabel('Heart Attack')\n",
    "plt.ylabel('Age')\n",
    "plt.title('Distribution of Age and its Relationship with Heart Attack')\n",
    "plt.show()\n"
   ]
  },
  {
   "cell_type": "code",
   "execution_count": 79,
   "id": "45c179ff",
   "metadata": {},
   "outputs": [
    {
     "data": {
      "image/png": "[encoded data removed]",
      "text/plain": [
       "<Figure size 504x360 with 1 Axes>"
      ]
     },
     "metadata": {
      "needs_background": "light"
     },
     "output_type": "display_data"
    }
   ],
   "source": [
    "# Bar plot for Sex distribution and its impact on the likelihood of a heart attack.\n",
    "\n",
    "plt.figure(figsize=(7, 5))\n",
    "sns.countplot(x='sex', hue='output', data=PD.toPandas())\n",
    "plt.xlabel('Sex (0 = Female, 1 = Male)')\n",
    "plt.ylabel('Count')\n",
    "plt.title('Sex Distribution and its Impact on Heart Attack Likelihood')\n",
    "plt.legend(['Less Chance of Heart Attack', 'More Chance of Heart Attack'])\n",
    "plt.show()"
   ]
  },
  {
   "cell_type": "code",
   "execution_count": 75,
   "id": "5fd7c1b3",
   "metadata": {},
   "outputs": [
    {
     "data": {
      "image/png": "[encoded data removed]",
      "text/plain": [
       "<Figure size 504x360 with 1 Axes>"
      ]
     },
     "metadata": {
      "needs_background": "light"
     },
     "output_type": "display_data"
    }
   ],
   "source": [
    "# Count plot for exercise-induced angina (exang) and its correlation with heart attack chances.\n",
    "\n",
    "plt.figure(figsize=(7,5))\n",
    "sns.countplot(x='exng', hue='output', data=PD.toPandas())\n",
    "plt.xlabel('Exercise-Induced Angina (0 = No, 1 = Yes)')\n",
    "plt.ylabel('Count')\n",
    "plt.title('Exercise-Induced Angina and its Correlation with Heart Attack Chances')\n",
    "plt.legend(['Less Chance of Heart Attack', 'More Chance of Heart Attack'])\n",
    "plt.show()"
   ]
  },
  {
   "cell_type": "code",
   "execution_count": 76,
   "id": "37904bfc",
   "metadata": {},
   "outputs": [
    {
     "data": {
      "image/png": "[encoded data removed]",
      "text/plain": [
       "<Figure size 504x360 with 1 Axes>"
      ]
     },
     "metadata": {
      "needs_background": "light"
     },
     "output_type": "display_data"
    }
   ],
   "source": [
    "# Resting blood pressure (trtbps) to understand its distribution and potential impact on heart attack chances.\n",
    "\n",
    "plt.figure(figsize=(7,5))\n",
    "sns.histplot(data=PD.toPandas(), x='trtbps', bins=15)\n",
    "plt.xlabel('Resting Blood Pressure (mm Hg)')\n",
    "plt.ylabel('Count')\n",
    "plt.title('Distribution of Resting Blood Pressure')\n",
    "plt.show()"
   ]
  },
  {
   "cell_type": "code",
   "execution_count": 77,
   "id": "4bc6c089",
   "metadata": {},
   "outputs": [
    {
     "data": {
      "image/png": "[encoded data removed]",
      "text/plain": [
       "<Figure size 504x360 with 1 Axes>"
      ]
     },
     "metadata": {
      "needs_background": "light"
     },
     "output_type": "display_data"
    }
   ],
   "source": [
    "### Scatter Plot between Cholestrol and thalachh\n",
    "\n",
    "plt.figure(figsize=(7,5))\n",
    "sns.scatterplot(x='chol', y='thalachh', data=PD.toPandas())\n",
    "plt.xlabel('Cholesterol (mg/dl)')\n",
    "plt.ylabel('thalachh')\n",
    "plt.title('Scatter Plot: Cholesterol vs. thalachh')\n",
    "plt.show()"
   ]
  },
  {
   "cell_type": "code",
   "execution_count": 84,
   "id": "0dcea323",
   "metadata": {},
   "outputs": [
    {
     "name": "stdout",
     "output_type": "stream",
     "text": [
      "+-------+------------+\n",
      "|oldpeak|rounded_data|\n",
      "+-------+------------+\n",
      "|    2.3|         2.0|\n",
      "|    3.5|         4.0|\n",
      "|    1.4|         1.0|\n",
      "|    0.8|         1.0|\n",
      "|    0.6|         1.0|\n",
      "|    0.4|         0.0|\n",
      "|    1.3|         1.0|\n",
      "|      0|         0.0|\n",
      "|    0.5|         1.0|\n",
      "|    1.6|         2.0|\n",
      "|    1.2|         1.0|\n",
      "|    0.2|         0.0|\n",
      "|    0.6|         1.0|\n",
      "|    1.8|         2.0|\n",
      "|      1|         1.0|\n",
      "|    1.6|         2.0|\n",
      "|      0|         0.0|\n",
      "|    2.6|         3.0|\n",
      "|    1.5|         2.0|\n",
      "|    1.8|         2.0|\n",
      "+-------+------------+\n",
      "only showing top 20 rows\n",
      "\n"
     ]
    }
   ],
   "source": [
    "from pyspark.sql.functions import round\n",
    "\n",
    "# Round the 'oldpeak' column to the nearest decimal\n",
    "PD_rounded = PD.withColumn('rounded_data', round('oldpeak',))\n",
    "PD_rounded.select('oldpeak', 'rounded_data').show()\n"
   ]
  },
  {
   "cell_type": "code",
   "execution_count": 95,
   "id": "d275a6a3",
   "metadata": {},
   "outputs": [
    {
     "name": "stdout",
     "output_type": "stream",
     "text": [
      "Percentage of people with risk greater than 60%: 100.00%\n"
     ]
    }
   ],
   "source": [
    "from pyspark.sql.functions import col, round\n",
    "\n",
    "\n",
    "# Calculate the risk score column\n",
    "PD = PD.withColumn(\"risk_score\", (0.3 * col(\"age\")) + (0.2 * col(\"trtbps\")) + (0.25 * col(\"chol\")) + (0.15 * col(\"caa\")))\n",
    "\n",
    "# Calculate the percentage of people with risk greater than 60%\n",
    "risk_per = PD.filter(col(\"risk_score\") > 60).count() / PD.count() * 100\n",
    "\n",
    "print(\"Percentage of people with risk greater than 60%: {:.2f}%\".format(risk_per))\n"
   ]
  },
  {
   "cell_type": "code",
   "execution_count": null,
   "id": "7627a27f",
   "metadata": {},
   "outputs": [],
   "source": [
    "#I have to restart the kernel so I am again creating SparkSession"
   ]
  },
  {
   "cell_type": "code",
   "execution_count": 18,
   "id": "b392c755",
   "metadata": {},
   "outputs": [
    {
     "name": "stdout",
     "output_type": "stream",
     "text": [
      "Defaulting to user installation because normal site-packages is not writeable\n",
      "Requirement already satisfied: pyspark in ./.local/lib/python3.10/site-packages (3.4.1)\n",
      "Requirement already satisfied: py4j==0.10.9.7 in ./.local/lib/python3.10/site-packages (from pyspark) (0.10.9.7)\n",
      "\u001b[33mDEPRECATION: distro-info 1.1build1 has a non-standard version number. pip 23.3 will enforce this behaviour change. A possible replacement is to upgrade to a newer version of distro-info or contact the author to suggest that they release a version with a conforming version number. Discussion can be found at https://github.com/pypa/pip/issues/12063\u001b[0m\u001b[33m\n",
      "\u001b[0m\u001b[33mDEPRECATION: python-debian 0.1.43ubuntu1 has a non-standard version number. pip 23.3 will enforce this behaviour change. A possible replacement is to upgrade to a newer version of python-debian or contact the author to suggest that they release a version with a conforming version number. Discussion can be found at https://github.com/pypa/pip/issues/12063\u001b[0m\u001b[33m\n",
      "\u001b[0mNote: you may need to restart the kernel to use updated packages.\n"
     ]
    }
   ],
   "source": [
    "pip install pyspark\n"
   ]
  },
  {
   "cell_type": "code",
   "execution_count": 19,
   "id": "5f6dedb2",
   "metadata": {},
   "outputs": [],
   "source": [
    "import pyspark"
   ]
  },
  {
   "cell_type": "code",
   "execution_count": 20,
   "id": "13ba5016",
   "metadata": {},
   "outputs": [],
   "source": [
    "from pyspark.sql import SparkSession"
   ]
  },
  {
   "cell_type": "code",
   "execution_count": 21,
   "id": "815d3d23",
   "metadata": {},
   "outputs": [
    {
     "name": "stderr",
     "output_type": "stream",
     "text": [
      "23/07/19 17:52:16 WARN Utils: Your hostname, user-ThinkPad-E480 resolves to a loopback address: 127.0.1.1; using 10.22.22.233 instead (on interface wlp5s0)\n",
      "23/07/19 17:52:16 WARN Utils: Set SPARK_LOCAL_IP if you need to bind to another address\n",
      "Setting default log level to \"WARN\".\n",
      "To adjust logging level use sc.setLogLevel(newLevel). For SparkR, use setLogLevel(newLevel).\n",
      "23/07/19 17:52:16 WARN NativeCodeLoader: Unable to load native-hadoop library for your platform... using builtin-java classes where applicable\n"
     ]
    }
   ],
   "source": [
    "spark=SparkSession.builder.appName('pyspark3').getOrCreate()"
   ]
  },
  {
   "cell_type": "code",
   "execution_count": 22,
   "id": "ac0c45e1",
   "metadata": {},
   "outputs": [
    {
     "data": {
      "text/html": [
       "\n",
       "            <div>\n",
       "                <p><b>SparkSession - in-memory</b></p>\n",
       "                \n",
       "        <div>\n",
       "            <p><b>SparkContext</b></p>\n",
       "\n",
       "            <p><a href=\"http://10.22.22.233:4040\">Spark UI</a></p>\n",
       "\n",
       "            <dl>\n",
       "              <dt>Version</dt>\n",
       "                <dd><code>v3.4.1</code></dd>\n",
       "              <dt>Master</dt>\n",
       "                <dd><code>local[*]</code></dd>\n",
       "              <dt>AppName</dt>\n",
       "                <dd><code>pyspark3</code></dd>\n",
       "            </dl>\n",
       "        </div>\n",
       "        \n",
       "            </div>\n",
       "        "
      ],
      "text/plain": [
       "<pyspark.sql.session.SparkSession at 0x7fea24cb07f0>"
      ]
     },
     "execution_count": 22,
     "metadata": {},
     "output_type": "execute_result"
    },
    {
     "name": "stderr",
     "output_type": "stream",
     "text": [
      "23/07/19 17:52:36 WARN GarbageCollectionMetrics: To enable non-built-in garbage collector(s) List(G1 Concurrent GC), users should configure it(them) to spark.eventLog.gcMetrics.youngGenerationGarbageCollectors or spark.eventLog.gcMetrics.oldGenerationGarbageCollectors\n"
     ]
    }
   ],
   "source": [
    "spark"
   ]
  },
  {
   "cell_type": "code",
   "execution_count": 23,
   "id": "a863c4a8",
   "metadata": {},
   "outputs": [],
   "source": [
    "PD=spark.read.csv('heartattack_dataset.csv',header=True,inferSchema=True)"
   ]
  },
  {
   "cell_type": "code",
   "execution_count": 24,
   "id": "988b67ec",
   "metadata": {},
   "outputs": [
    {
     "name": "stdout",
     "output_type": "stream",
     "text": [
      "+---+---+---+------+----+---+-------+--------+----+-------+---+---+-----+------+\n",
      "|age|sex| cp|trtbps|chol|fbs|restecg|thalachh|exng|oldpeak|slp|caa|thall|output|\n",
      "+---+---+---+------+----+---+-------+--------+----+-------+---+---+-----+------+\n",
      "| 63|  1|  3|   145| 233|  1|      0|     150|   0|    2.3|  0|  0|    1|     1|\n",
      "| 37|  1|  2|   130| 250|  0|      1|     187|   0|    3.5|  0|  0|    2|     1|\n",
      "| 41|  0|  1|   130| 204|  0|      0|     172|   0|    1.4|  2|  0|    2|     1|\n",
      "| 56|  1|  1|   120| 236|  0|      1|     178|   0|    0.8|  2|  0|    2|     1|\n",
      "| 57|  0|  0|   120| 354|  0|      1|     163|   1|    0.6|  2|  0|    2|     1|\n",
      "| 57|  1|  0|   140| 192|  0|      1|     148|   0|    0.4|  1|  0|    1|     1|\n",
      "| 56|  0|  1|   140| 294|  0|      0|     153|   0|    1.3|  1|  0|    2|     1|\n",
      "| 44|  1|  1|   120| 263|  0|      1|     173|   0|    0.0|  2|  0|    3|     1|\n",
      "| 52|  1|  2|   172| 199|  1|      1|     162|   0|    0.5|  2|  0|    3|     1|\n",
      "| 57|  1|  2|   150| 168|  0|      1|     174|   0|    1.6|  2|  0|    2|     1|\n",
      "| 54|  1|  0|   140| 239|  0|      1|     160|   0|    1.2|  2|  0|    2|     1|\n",
      "| 48|  0|  2|   130| 275|  0|      1|     139|   0|    0.2|  2|  0|    2|     1|\n",
      "| 49|  1|  1|   130| 266|  0|      1|     171|   0|    0.6|  2|  0|    2|     1|\n",
      "| 64|  1|  3|   110| 211|  0|      0|     144|   1|    1.8|  1|  0|    2|     1|\n",
      "| 58|  0|  3|   150| 283|  1|      0|     162|   0|    1.0|  2|  0|    2|     1|\n",
      "| 50|  0|  2|   120| 219|  0|      1|     158|   0|    1.6|  1|  0|    2|     1|\n",
      "| 58|  0|  2|   120| 340|  0|      1|     172|   0|    0.0|  2|  0|    2|     1|\n",
      "| 66|  0|  3|   150| 226|  0|      1|     114|   0|    2.6|  0|  0|    2|     1|\n",
      "| 43|  1|  0|   150| 247|  0|      1|     171|   0|    1.5|  2|  0|    2|     1|\n",
      "| 69|  0|  3|   140| 239|  0|      1|     151|   0|    1.8|  2|  2|    2|     1|\n",
      "+---+---+---+------+----+---+-------+--------+----+-------+---+---+-----+------+\n",
      "only showing top 20 rows\n",
      "\n"
     ]
    }
   ],
   "source": [
    "PD.show()"
   ]
  },
  {
   "cell_type": "code",
   "execution_count": 26,
   "id": "6e4e0bf8",
   "metadata": {},
   "outputs": [
    {
     "name": "stdout",
     "output_type": "stream",
     "text": [
      "+---+---+---+------+----+---+-------+--------+----+-------+---+---+-----+------+------------------+\n",
      "|age|sex| cp|trtbps|chol|fbs|restecg|thalachh|exng|oldpeak|slp|caa|thall|output|   thalachh_scaled|\n",
      "+---+---+---+------+----+---+-------+--------+----+-------+---+---+-----+------+------------------+\n",
      "| 63|  1|  3|   145| 233|  1|      0|     150|   0|    2.3|  0|  0|    1|     1|0.6030534351145038|\n",
      "| 37|  1|  2|   130| 250|  0|      1|     187|   0|    3.5|  0|  0|    2|     1|0.8854961832061069|\n",
      "| 41|  0|  1|   130| 204|  0|      0|     172|   0|    1.4|  2|  0|    2|     1|0.7709923664122137|\n",
      "| 56|  1|  1|   120| 236|  0|      1|     178|   0|    0.8|  2|  0|    2|     1| 0.816793893129771|\n",
      "| 57|  0|  0|   120| 354|  0|      1|     163|   1|    0.6|  2|  0|    2|     1|0.7022900763358778|\n",
      "| 57|  1|  0|   140| 192|  0|      1|     148|   0|    0.4|  1|  0|    1|     1|0.5877862595419847|\n",
      "| 56|  0|  1|   140| 294|  0|      0|     153|   0|    1.3|  1|  0|    2|     1|0.6259541984732825|\n",
      "| 44|  1|  1|   120| 263|  0|      1|     173|   0|    0.0|  2|  0|    3|     1|0.7786259541984732|\n",
      "| 52|  1|  2|   172| 199|  1|      1|     162|   0|    0.5|  2|  0|    3|     1|0.6946564885496184|\n",
      "| 57|  1|  2|   150| 168|  0|      1|     174|   0|    1.6|  2|  0|    2|     1|0.7862595419847328|\n",
      "| 54|  1|  0|   140| 239|  0|      1|     160|   0|    1.2|  2|  0|    2|     1|0.6793893129770993|\n",
      "| 48|  0|  2|   130| 275|  0|      1|     139|   0|    0.2|  2|  0|    2|     1|0.5190839694656488|\n",
      "| 49|  1|  1|   130| 266|  0|      1|     171|   0|    0.6|  2|  0|    2|     1|0.7633587786259542|\n",
      "| 64|  1|  3|   110| 211|  0|      0|     144|   1|    1.8|  1|  0|    2|     1|0.5572519083969466|\n",
      "| 58|  0|  3|   150| 283|  1|      0|     162|   0|    1.0|  2|  0|    2|     1|0.6946564885496184|\n",
      "| 50|  0|  2|   120| 219|  0|      1|     158|   0|    1.6|  1|  0|    2|     1|0.6641221374045801|\n",
      "| 58|  0|  2|   120| 340|  0|      1|     172|   0|    0.0|  2|  0|    2|     1|0.7709923664122137|\n",
      "| 66|  0|  3|   150| 226|  0|      1|     114|   0|    2.6|  0|  0|    2|     1|0.3282442748091603|\n",
      "| 43|  1|  0|   150| 247|  0|      1|     171|   0|    1.5|  2|  0|    2|     1|0.7633587786259542|\n",
      "| 69|  0|  3|   140| 239|  0|      1|     151|   0|    1.8|  2|  2|    2|     1|0.6106870229007634|\n",
      "+---+---+---+------+----+---+-------+--------+----+-------+---+---+-----+------+------------------+\n",
      "only showing top 20 rows\n",
      "\n"
     ]
    }
   ],
   "source": [
    "from pyspark.sql.functions import col, min, max\n",
    "\n",
    "# Sclare thalch  column to 0-1 using an estimator.\n",
    "min_value = PD.select(min(col('thalachh'))).first()[0]\n",
    "max_value = PD.select(max(col('thalachh'))).first()[0]\n",
    "\n",
    "# Scale the 'thalachh' column to the range [0, 1]\n",
    "df = PD.withColumn('thalachh_scaled', (col('thalachh') - min_value) / (max_value - min_value))\n",
    "\n",
    "df.show()\n"
   ]
  },
  {
   "cell_type": "code",
   "execution_count": 31,
   "id": "35183104",
   "metadata": {},
   "outputs": [
    {
     "name": "stdout",
     "output_type": "stream",
     "text": [
      "+--------+--------------------+\n",
      "|thalachh|        new_thalachh|\n",
      "+--------+--------------------+\n",
      "|     150|[0.6030534351145038]|\n",
      "|     187|[0.8854961832061068]|\n",
      "|     172|[0.7709923664122137]|\n",
      "|     178|[0.8167938931297709]|\n",
      "|     163|[0.7022900763358778]|\n",
      "|     148|[0.5877862595419847]|\n",
      "|     153|[0.6259541984732824]|\n",
      "|     173|[0.7786259541984732]|\n",
      "|     162|[0.6946564885496183]|\n",
      "|     174|[0.7862595419847328]|\n",
      "|     160|[0.6793893129770993]|\n",
      "|     139|[0.5190839694656488]|\n",
      "|     171|[0.7633587786259541]|\n",
      "|     144|[0.5572519083969465]|\n",
      "|     162|[0.6946564885496183]|\n",
      "|     158|[0.6641221374045801]|\n",
      "|     172|[0.7709923664122137]|\n",
      "|     114|[0.3282442748091603]|\n",
      "|     171|[0.7633587786259541]|\n",
      "|     151|[0.6106870229007634]|\n",
      "+--------+--------------------+\n",
      "only showing top 20 rows\n",
      "\n"
     ]
    }
   ],
   "source": [
    "from pyspark.ml.feature import MinMaxScaler\n",
    "from pyspark.ml.feature import VectorAssembler\n",
    "\n",
    "#Scale the 'thalach' column to a common range.\n",
    "assembler = VectorAssembler(inputCols=['thalachh'], outputCol='features')\n",
    "\n",
    "# Transform the dataframe to include the vectorized column\n",
    "SS = assembler.transform(df)\n",
    "\n",
    "scaler = MinMaxScaler(inputCol='features', outputCol='new_thalachh')\n",
    "scalernn = scaler.fit(SS)\n",
    "sd = scalernn.transform(SS)\n",
    "sd.select('thalachh', 'new_thalachh').show()\n"
   ]
  },
  {
   "cell_type": "code",
   "execution_count": null,
   "id": "4daad41e",
   "metadata": {},
   "outputs": [],
   "source": []
  }
 ],
 "metadata": {
  "kernelspec": {
   "display_name": "Python 3 (ipykernel)",
   "language": "python",
   "name": "python3"
  },
  "language_info": {
   "codemirror_mode": {
    "name": "ipython",
    "version": 3
   },
   "file_extension": ".py",
   "mimetype": "text/x-python",
   "name": "python",
   "nbconvert_exporter": "python",
   "pygments_lexer": "ipython3",
   "version": "3.10.6"
  }
 },
 "nbformat": 4,
 "nbformat_minor": 5
}
